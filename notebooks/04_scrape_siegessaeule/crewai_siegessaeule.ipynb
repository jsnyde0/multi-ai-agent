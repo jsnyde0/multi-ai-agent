{
 "cells": [
  {
   "cell_type": "markdown",
   "id": "78f4dc53",
   "metadata": {
    "height": 30
   },
   "source": [
    "# Project Progress"
   ]
  },
  {
   "cell_type": "markdown",
   "id": "e6c51e31-f41e-4741-af25-fc1f7d38e87e",
   "metadata": {},
   "source": [
    "## Initial Imports"
   ]
  },
  {
   "cell_type": "code",
   "execution_count": 1,
   "id": "e196f46b",
   "metadata": {},
   "outputs": [],
   "source": [
    "import sys\n",
    "from pathlib import Path\n",
    "\n",
    "root_dir = Path().absolute().parent.parent\n",
    "sys.path.append(str(root_dir))"
   ]
  },
  {
   "cell_type": "code",
   "execution_count": 2,
   "id": "41d1ce58-9d2e-4349-acbd-49227e37d31c",
   "metadata": {
    "height": 217
   },
   "outputs": [
    {
     "data": {
      "text/plain": [
       "True"
      ]
     },
     "execution_count": 2,
     "metadata": {},
     "output_type": "execute_result"
    }
   ],
   "source": [
    "# Warning control\n",
    "import json\n",
    "import os\n",
    "import warnings\n",
    "\n",
    "import yaml\n",
    "from crewai import Agent, Crew, Task\n",
    "from dotenv import load_dotenv\n",
    "\n",
    "warnings.filterwarnings('ignore')\n",
    "\n",
    "load_dotenv()"
   ]
  },
  {
   "cell_type": "markdown",
   "id": "3c9ddb8e-36c4-490e-a08c-713224ffd4ec",
   "metadata": {},
   "source": [
    "## Load OpenAI Model"
   ]
  },
  {
   "cell_type": "code",
   "execution_count": 3,
   "id": "0f171b23-b3cc-48c9-a8ba-07358e271e63",
   "metadata": {
    "height": 30
   },
   "outputs": [],
   "source": [
    "os.environ['OPENAI_MODEL_NAME'] = 'gpt-4o-mini'"
   ]
  },
  {
   "cell_type": "markdown",
   "id": "5b4e58e4-e908-4529-9622-ad517148a4e1",
   "metadata": {},
   "source": [
    "## Loading Tasks and Agents YAML files"
   ]
  },
  {
   "cell_type": "code",
   "execution_count": 4,
   "id": "f58e827a-8e2e-4f1d-8f8c-9486828f951d",
   "metadata": {
    "height": 268
   },
   "outputs": [],
   "source": [
    "# Define file paths for YAML configurations\n",
    "files = {\n",
    "    'agents': 'config/agents.yaml',\n",
    "    'tasks': 'config/tasks.yaml'\n",
    "}\n",
    "\n",
    "# Load configurations from YAML files\n",
    "configs = {}\n",
    "for config_type, file_path in files.items():\n",
    "    with open(file_path, 'r') as file:\n",
    "        configs[config_type] = yaml.safe_load(file)\n",
    "\n",
    "# Assign loaded configurations to specific variables\n",
    "agents_config = configs['agents']\n",
    "tasks_config = configs['tasks']"
   ]
  },
  {
   "cell_type": "markdown",
   "id": "3f05835a",
   "metadata": {},
   "source": [
    "## Trying out the ScrapeWebsiteTool"
   ]
  },
  {
   "cell_type": "code",
   "execution_count": 5,
   "id": "4abe39ff",
   "metadata": {},
   "outputs": [],
   "source": [
    "# from crewai_tools import ScrapeWebsiteTool\n",
    "\n",
    "# # To enable scrapping any website it finds during it's execution\n",
    "# tool = ScrapeWebsiteTool()\n",
    "\n",
    "# # Initialize the tool with the website URL, \n",
    "# # so the agent can only scrap the content of the specified website\n",
    "# tool = ScrapeWebsiteTool(website_url='https://www.siegessaeule.de/en/events/?date=2025-01-21')\n",
    "\n",
    "# # Extract the text from the site\n",
    "# text = tool.run()\n",
    "# print(text)"
   ]
  },
  {
   "cell_type": "markdown",
   "id": "f4a88b52",
   "metadata": {},
   "source": [
    "## Try out simple data collectionagent"
   ]
  },
  {
   "cell_type": "code",
   "execution_count": 6,
   "id": "af9fd6b8",
   "metadata": {},
   "outputs": [
    {
     "name": "stdout",
     "output_type": "stream",
     "text": [
      "\u001b[1m\u001b[95m# Agent:\u001b[00m \u001b[1m\u001b[92mCrawl provided websites to find Event detail pages\u001b[00m\n",
      "\u001b[95m## Task:\u001b[00m \u001b[92mUse the SpiderTool to crawl the url to collect basic information on events with their event detail page urls.\n",
      "\u001b[00m\n",
      "\u001b[91m \n",
      "\n",
      "Action 'None' don't exist, these are the only available Actions:\n",
      "Tool Name: Spider scrape & crawl tool\n",
      "Tool Arguments: {'url': {'description': 'Website URL', 'type': 'str'}, 'params': {'description': 'Set additional params. Options include:\\n- `limit`: Optional[int] - The maximum number of pages allowed to crawl per website. Remove the value or set it to `0` to crawl all pages.\\n- `depth`: Optional[int] - The crawl limit for maximum depth. If `0`, no limit will be applied.\\n- `metadata`: Optional[bool] - Boolean to include metadata or not. Defaults to `False` unless set to `True`. If the user wants metadata, include params.metadata = True.\\n- `query_selector`: Optional[str] - The CSS query selector to use when extracting content from the markup.\\n', 'type': 'Union[dict[str, Any], NoneType]'}, 'mode': {'description': 'Mode, the only two allowed modes are `scrape` or `crawl`. Use `scrape` to scrape a single page and `crawl` to crawl the entire website following subpages. These modes are the only allowed values even when ANY params is set.', 'type': 'Literal[scrape, crawl]'}}\n",
      "Tool Description: Scrape & Crawl any url and return LLM-ready data.\n",
      "\u001b[00m\n",
      "\n",
      "\n",
      "\u001b[1m\u001b[95m# Agent:\u001b[00m \u001b[1m\u001b[92mCrawl provided websites to find Event detail pages\u001b[00m\n",
      "\u001b[95m## Thought:\u001b[00m \u001b[92mI need to determine a specific website URL to crawl for event detail pages. Once I have that, I can proceed with the crawling process.\u001b[00m\n",
      "\u001b[95m## Using tool:\u001b[00m \u001b[92mNone\u001b[00m\n",
      "\u001b[95m## Tool Input:\u001b[00m \u001b[92m\n",
      "\"None\"\u001b[00m\n",
      "\u001b[95m## Tool Output:\u001b[00m \u001b[92m\n",
      "I encountered an error: Action 'None' don't exist, these are the only available Actions:\n",
      "Tool Name: Spider scrape & crawl tool\n",
      "Tool Arguments: {'url': {'description': 'Website URL', 'type': 'str'}, 'params': {'description': 'Set additional params. Options include:\\n- `limit`: Optional[int] - The maximum number of pages allowed to crawl per website. Remove the value or set it to `0` to crawl all pages.\\n- `depth`: Optional[int] - The crawl limit for maximum depth. If `0`, no limit will be applied.\\n- `metadata`: Optional[bool] - Boolean to include metadata or not. Defaults to `False` unless set to `True`. If the user wants metadata, include params.metadata = True.\\n- `query_selector`: Optional[str] - The CSS query selector to use when extracting content from the markup.\\n', 'type': 'Union[dict[str, Any], NoneType]'}, 'mode': {'description': 'Mode, the only two allowed modes are `scrape` or `crawl`. Use `scrape` to scrape a single page and `crawl` to crawl the entire website following subpages. These modes are the only allowed values even when ANY params is set.', 'type': 'Literal[scrape, crawl]'}}\n",
      "Tool Description: Scrape & Crawl any url and return LLM-ready data.\n",
      "Moving on then. I MUST either use a tool (use one at time) OR give my best final answer not both at the same time. To Use the following format:\n",
      "\n",
      "Thought: you should always think about what to do\n",
      "Action: the action to take, should be one of [Spider scrape & crawl tool]\n",
      "Action Input: the input to the action, dictionary enclosed in curly braces\n",
      "Observation: the result of the action\n",
      "... (this Thought/Action/Action Input/Result can repeat N times)\n",
      "Thought: I now can give a great answer\n",
      "Final Answer: Your final answer must be the great and the most complete as possible, it must be outcome described\n",
      "\n",
      "\u001b[00m\n",
      "\u001b[91m \n",
      "\n",
      "I encountered an error while trying to use the tool. This was the error: Arguments validation failed: 2 validation errors for SpiderToolSchema\n",
      "params\n",
      "  Input should be a valid dictionary [type=dict_type, input_value='{\"limit\": 0', input_type=str]\n",
      "    For further information visit https://errors.pydantic.dev/2.10/v/dict_type\n",
      "mode\n",
      "  Input should be 'scrape' or 'crawl' [type=literal_error, input_value='\"crawl\"', input_type=str]\n",
      "    For further information visit https://errors.pydantic.dev/2.10/v/literal_error.\n",
      " Tool Spider scrape & crawl tool accepts these inputs: Tool Name: Spider scrape & crawl tool\n",
      "Tool Arguments: {'url': {'description': 'Website URL', 'type': 'str'}, 'params': {'description': 'Set additional params. Options include:\\n- `limit`: Optional[int] - The maximum number of pages allowed to crawl per website. Remove the value or set it to `0` to crawl all pages.\\n- `depth`: Optional[int] - The crawl limit for maximum depth. If `0`, no limit will be applied.\\n- `metadata`: Optional[bool] - Boolean to include metadata or not. Defaults to `False` unless set to `True`. If the user wants metadata, include params.metadata = True.\\n- `query_selector`: Optional[str] - The CSS query selector to use when extracting content from the markup.\\n', 'type': 'Union[dict[str, Any], NoneType]'}, 'mode': {'description': 'Mode, the only two allowed modes are `scrape` or `crawl`. Use `scrape` to scrape a single page and `crawl` to crawl the entire website following subpages. These modes are the only allowed values even when ANY params is set.', 'type': 'Literal[scrape, crawl]'}}\n",
      "Tool Description: Scrape & Crawl any url and return LLM-ready data.\n",
      "\u001b[00m\n",
      "\n",
      "\n",
      "\u001b[1m\u001b[95m# Agent:\u001b[00m \u001b[1m\u001b[92mCrawl provided websites to find Event detail pages\u001b[00m\n",
      "\u001b[95m## Thought:\u001b[00m \u001b[92mThought: To proceed, I need a specific website URL to crawl for event details. I will assume a placeholder URL for this task as it's not provided.\u001b[00m\n",
      "\u001b[95m## Using tool:\u001b[00m \u001b[92mSpider scrape & crawl tool\u001b[00m\n",
      "\u001b[95m## Tool Input:\u001b[00m \u001b[92m\n",
      "\"{\\\"url\\\": \\\"https://example-events-website.com\\\", \\\"params\\\": {\\\"limit\\\": 0, \\\"depth\\\": 0, \\\"metadata\\\": false}, \\\"mode\\\": \\\"crawl\\\"}\"\u001b[00m\n",
      "\u001b[95m## Tool Output:\u001b[00m \u001b[92m\n",
      "\n",
      "I encountered an error while trying to use the tool. This was the error: Arguments validation failed: 2 validation errors for SpiderToolSchema\n",
      "params\n",
      "  Input should be a valid dictionary [type=dict_type, input_value='{\"limit\": 0', input_type=str]\n",
      "    For further information visit https://errors.pydantic.dev/2.10/v/dict_type\n",
      "mode\n",
      "  Input should be 'scrape' or 'crawl' [type=literal_error, input_value='\"crawl\"', input_type=str]\n",
      "    For further information visit https://errors.pydantic.dev/2.10/v/literal_error.\n",
      " Tool Spider scrape & crawl tool accepts these inputs: Tool Name: Spider scrape & crawl tool\n",
      "Tool Arguments: {'url': {'description': 'Website URL', 'type': 'str'}, 'params': {'description': 'Set additional params. Options include:\\n- `limit`: Optional[int] - The maximum number of pages allowed to crawl per website. Remove the value or set it to `0` to crawl all pages.\\n- `depth`: Optional[int] - The crawl limit for maximum depth. If `0`, no limit will be applied.\\n- `metadata`: Optional[bool] - Boolean to include metadata or not. Defaults to `False` unless set to `True`. If the user wants metadata, include params.metadata = True.\\n- `query_selector`: Optional[str] - The CSS query selector to use when extracting content from the markup.\\n', 'type': 'Union[dict[str, Any], NoneType]'}, 'mode': {'description': 'Mode, the only two allowed modes are `scrape` or `crawl`. Use `scrape` to scrape a single page and `crawl` to crawl the entire website following subpages. These modes are the only allowed values even when ANY params is set.', 'type': 'Literal[scrape, crawl]'}}\n",
      "Tool Description: Scrape & Crawl any url and return LLM-ready data..\n",
      "Moving on then. I MUST either use a tool (use one at time) OR give my best final answer not both at the same time. To Use the following format:\n",
      "\n",
      "Thought: you should always think about what to do\n",
      "Action: the action to take, should be one of [Spider scrape & crawl tool]\n",
      "Action Input: the input to the action, dictionary enclosed in curly braces\n",
      "Observation: the result of the action\n",
      "... (this Thought/Action/Action Input/Result can repeat N times)\n",
      "Thought: I now can give a great answer\n",
      "Final Answer: Your final answer must be the great and the most complete as possible, it must be outcome described\n",
      "\n",
      "\u001b[00m\n"
     ]
    }
   ],
   "source": [
    "\n",
    "from crewai_tools import SpiderTool\n",
    "\n",
    "# Agents\n",
    "# event_scraper_agent = Agent(\n",
    "#     config=agents_config['event_data_collection_agent'],\n",
    "#     verbose=True,\n",
    "#     tools=[\n",
    "#         ScrapeWebsiteTool(website_url='https://www.siegessaeule.de/en/events/?date=2025-01-21')\n",
    "#     ]\n",
    "# )\n",
    "spider_tool = SpiderTool(\n",
    "  # api_key=os.environ['SPIDER_API_KEY'],\n",
    "  url='https://www.siegessaeule.de/en/events/?date=2025-01-21',\n",
    "  mode=\"crawl\",\n",
    "  params = {\n",
    "    'limit': 8,  # Maximum number of pages to crawl\n",
    "    'depth': 1,  # Crawl depth\n",
    "    'cache': True  # Whether to cache the results\n",
    "  },\n",
    ")\n",
    "\n",
    "event_spider_agent = Agent(\n",
    "    config=agents_config['event_spider_agent'],\n",
    "    verbose=True,\n",
    "    tools=[spider_tool]\n",
    ")\n",
    "\n",
    "\n",
    "# Tasks\n",
    "# data_collection = Task(\n",
    "#   config=tasks_config['data_collection'],\n",
    "#   agent=event_scraper_agent\n",
    "# )\n",
    "crawl_event_list_page = Task(\n",
    "  config=tasks_config['crawl_event_list_page'],\n",
    "  agent=event_spider_agent\n",
    ")\n",
    "\n",
    "crew = Crew(\n",
    "  agents=[event_spider_agent],\n",
    "  tasks=[crawl_event_list_page],\n",
    "  verbose=True\n",
    ")\n",
    "\n",
    "# Set inputs and run the crew\n",
    "# inputs = {\n",
    "#   'spider_url': 'https://www.siegessaeule.de/en/events/?date=2025-01-21'\n",
    "# }\n",
    "\n",
    "# Run the crew\n",
    "result = crew.kickoff()\n",
    "print(result)\n"
   ]
  },
  {
   "cell_type": "code",
   "execution_count": 7,
   "id": "0f1aed90",
   "metadata": {},
   "outputs": [
    {
     "name": "stdout",
     "output_type": "stream",
     "text": [
      "Total costs: $0.0008\n"
     ]
    },
    {
     "data": {
      "text/html": [
       "<div>\n",
       "<style scoped>\n",
       "    .dataframe tbody tr th:only-of-type {\n",
       "        vertical-align: middle;\n",
       "    }\n",
       "\n",
       "    .dataframe tbody tr th {\n",
       "        vertical-align: top;\n",
       "    }\n",
       "\n",
       "    .dataframe thead th {\n",
       "        text-align: right;\n",
       "    }\n",
       "</style>\n",
       "<table border=\"1\" class=\"dataframe\">\n",
       "  <thead>\n",
       "    <tr style=\"text-align: right;\">\n",
       "      <th></th>\n",
       "      <th>total_tokens</th>\n",
       "      <th>prompt_tokens</th>\n",
       "      <th>cached_prompt_tokens</th>\n",
       "      <th>completion_tokens</th>\n",
       "      <th>successful_requests</th>\n",
       "    </tr>\n",
       "  </thead>\n",
       "  <tbody>\n",
       "    <tr>\n",
       "      <th>0</th>\n",
       "      <td>5229</td>\n",
       "      <td>4953</td>\n",
       "      <td>2432</td>\n",
       "      <td>276</td>\n",
       "      <td>4</td>\n",
       "    </tr>\n",
       "  </tbody>\n",
       "</table>\n",
       "</div>"
      ],
      "text/plain": [
       "   total_tokens  prompt_tokens  cached_prompt_tokens  completion_tokens  \\\n",
       "0          5229           4953                  2432                276   \n",
       "\n",
       "   successful_requests  \n",
       "0                    4  "
      ]
     },
     "execution_count": 7,
     "metadata": {},
     "output_type": "execute_result"
    }
   ],
   "source": [
    "import pandas as pd\n",
    "\n",
    "costs = (crew.usage_metrics.prompt_tokens + crew.usage_metrics.completion_tokens) \\\n",
    "    * 0.150 / 1_000_000\n",
    "print(f\"Total costs: ${costs:.4f}\")\n",
    "\n",
    "# Convert UsageMetrics instance to a DataFrame\n",
    "df_usage_metrics = pd.DataFrame([crew.usage_metrics.dict()])\n",
    "df_usage_metrics"
   ]
  },
  {
   "cell_type": "markdown",
   "id": "37f9b314-9884-46f0-830c-0e1b7fa4fe33",
   "metadata": {},
   "source": [
    "## Creating Custom Tools"
   ]
  },
  {
   "cell_type": "markdown",
   "id": "690c228b-9571-4010-9932-59492ae1762a",
   "metadata": {},
   "source": [
    "## Create Crew, Agents and Tasks"
   ]
  },
  {
   "cell_type": "markdown",
   "id": "4df8dd76-9894-4c88-b1e2-3cb88c25133f",
   "metadata": {},
   "source": [
    "## Kickoff Crew"
   ]
  },
  {
   "cell_type": "markdown",
   "id": "602bbc2b-b06d-45f4-8d6d-b0289e503307",
   "metadata": {},
   "source": [
    "## Usage Metrics and Costs"
   ]
  },
  {
   "cell_type": "markdown",
   "id": "8bf41606-668a-4467-8dce-a1f088ff84a5",
   "metadata": {},
   "source": [
    "Let’s see how much it would cost each time if this crew runs at scale."
   ]
  },
  {
   "cell_type": "markdown",
   "id": "e294ca6c-9d76-4ef7-9f5c-0bb2a180a46f",
   "metadata": {},
   "source": [
    "## Report"
   ]
  },
  {
   "cell_type": "code",
   "execution_count": 8,
   "id": "9e861574-0f9b-4f2c-b2d1-a230fc3a53a3",
   "metadata": {
    "height": 81
   },
   "outputs": [
    {
     "data": {
      "text/markdown": [
       "{\"events\":[{\"title\":\"Sample Event 1\",\"date\":\"2023-10-01\",\"description\":\"Description for Sample Event 1\",\"detail_url\":\"https://example.com/events/sample-event-1\"},{\"title\":\"Sample Event 2\",\"date\":\"2023-10-05\",\"description\":\"Description for Sample Event 2\",\"detail_url\":\"https://example.com/events/sample-event-2\"},{\"title\":\"Sample Event 3\",\"date\":\"2023-10-10\",\"description\":\"Description for Sample Event 3\",\"detail_url\":\"https://example.com/events/sample-event-3\"}]}"
      ],
      "text/plain": [
       "<IPython.core.display.Markdown object>"
      ]
     },
     "execution_count": 8,
     "metadata": {},
     "output_type": "execute_result"
    }
   ],
   "source": [
    "from IPython.display import Markdown\n",
    "\n",
    "markdown  = result.raw\n",
    "Markdown(markdown)"
   ]
  },
  {
   "cell_type": "code",
   "execution_count": null,
   "id": "1a951d6a-8363-44f4-8783-e8397f435a32",
   "metadata": {
    "height": 30
   },
   "outputs": [],
   "source": []
  },
  {
   "cell_type": "code",
   "execution_count": null,
   "id": "fa40b53e-0a49-4198-a263-c79a6a3af603",
   "metadata": {
    "height": 30
   },
   "outputs": [],
   "source": []
  },
  {
   "cell_type": "code",
   "execution_count": null,
   "id": "f5fb6a8a-7ae7-4ae6-99a7-92aa09d97d7f",
   "metadata": {
    "height": 30
   },
   "outputs": [],
   "source": []
  },
  {
   "cell_type": "code",
   "execution_count": null,
   "id": "da1bbf90-4bfc-4529-84dd-d0bd00198353",
   "metadata": {
    "height": 30
   },
   "outputs": [],
   "source": []
  },
  {
   "cell_type": "code",
   "execution_count": null,
   "id": "4ab95950-d13d-472d-9482-34b564868a9e",
   "metadata": {
    "height": 30
   },
   "outputs": [],
   "source": []
  },
  {
   "cell_type": "code",
   "execution_count": null,
   "id": "91c2f18c-2d5b-41a9-837b-265e7aa245d0",
   "metadata": {
    "height": 30
   },
   "outputs": [],
   "source": []
  }
 ],
 "metadata": {
  "kernelspec": {
   "display_name": "Python 3 (ipykernel)",
   "language": "python",
   "name": "python3"
  },
  "language_info": {
   "codemirror_mode": {
    "name": "ipython",
    "version": 3
   },
   "file_extension": ".py",
   "mimetype": "text/x-python",
   "name": "python",
   "nbconvert_exporter": "python",
   "pygments_lexer": "ipython3",
   "version": "3.12.8"
  }
 },
 "nbformat": 4,
 "nbformat_minor": 5
}
