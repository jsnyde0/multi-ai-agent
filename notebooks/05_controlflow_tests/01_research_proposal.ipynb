{
 "cells": [
  {
   "cell_type": "code",
   "execution_count": 2,
   "metadata": {},
   "outputs": [],
   "source": [
    "import sys\n",
    "from pathlib import Path\n",
    "\n",
    "root_dir = Path().absolute().parent.parent\n",
    "sys.path.append(str(root_dir))"
   ]
  },
  {
   "cell_type": "code",
   "execution_count": 3,
   "metadata": {},
   "outputs": [
    {
     "data": {
      "text/plain": [
       "True"
      ]
     },
     "execution_count": 3,
     "metadata": {},
     "output_type": "execute_result"
    }
   ],
   "source": [
    "# Warning control\n",
    "import os\n",
    "import warnings\n",
    "\n",
    "import controlflow as cf\n",
    "from dotenv import load_dotenv\n",
    "\n",
    "warnings.filterwarnings('ignore')\n",
    "\n",
    "load_dotenv()"
   ]
  },
  {
   "cell_type": "code",
   "execution_count": 4,
   "metadata": {},
   "outputs": [
    {
     "data": {
      "text/html": [
       "<pre style=\"white-space:pre;overflow-x:auto;line-height:normal;font-family:Menlo,'DejaVu Sans Mono',consolas,'Courier New',monospace\"></pre>\n"
      ],
      "text/plain": []
     },
     "metadata": {},
     "output_type": "display_data"
    },
    {
     "data": {
      "text/html": [
       "<pre style=\"white-space:pre;overflow-x:auto;line-height:normal;font-family:Menlo,'DejaVu Sans Mono',consolas,'Courier New',monospace\">\n",
       "<span style=\"color: #000080; text-decoration-color: #000080; font-weight: bold\">🤖 Agent:</span> <span style=\"color: #000080; text-decoration-color: #000080\">Hello! I'm here to help you choose a research topic. To get started, could you let me know the general </span>\n",
       "<span style=\"color: #000080; text-decoration-color: #000080\">field or area you're interested in researching? For example, are you interested in technology, health, social </span>\n",
       "<span style=\"color: #000080; text-decoration-color: #000080\">sciences, or something else? Feel free to share any specific ideas or themes you have in mind as well!</span>\n",
       "Type your response: </pre>\n"
      ],
      "text/plain": [
       "\n",
       "\u001b[1;34m🤖 Agent:\u001b[0m \u001b[34mHello! I'm here to help you choose a research topic. To get started, could you let me know the general \u001b[0m\n",
       "\u001b[34mfield or area you're interested in researching? For example, are you interested in technology, health, social \u001b[0m\n",
       "\u001b[34msciences, or something else? Feel free to share any specific ideas or themes you have in mind as well!\u001b[0m\n",
       "Type your response: "
      ]
     },
     "metadata": {},
     "output_type": "display_data"
    },
    {
     "name": "stdout",
     "output_type": "stream",
     "text": [
      "\n"
     ]
    },
    {
     "data": {
      "text/html": [
       "<pre style=\"white-space:pre;overflow-x:auto;line-height:normal;font-family:Menlo,'DejaVu Sans Mono',consolas,'Courier New',monospace\"></pre>\n"
      ],
      "text/plain": []
     },
     "metadata": {},
     "output_type": "display_data"
    },
    {
     "data": {
      "text/html": [
       "<pre style=\"white-space:pre;overflow-x:auto;line-height:normal;font-family:Menlo,'DejaVu Sans Mono',consolas,'Courier New',monospace\">\n",
       "<span style=\"color: #000080; text-decoration-color: #000080; font-weight: bold\">🤖 Agent:</span> <span style=\"color: #000080; text-decoration-color: #000080\">No worries! Let's try to narrow it down together. Here are a few broad areas you might consider:</span>\n",
       "\n",
       "<span style=\"color: #000080; text-decoration-color: #000080\">1. **Technology**: Topics related to artificial intelligence, cybersecurity, renewable energy, etc.</span>\n",
       "<span style=\"color: #000080; text-decoration-color: #000080\">2. **Health**: Research on mental health, nutrition, public health policies, etc.</span>\n",
       "<span style=\"color: #000080; text-decoration-color: #000080\">3. **Social Sciences**: Topics in sociology, psychology, education, etc.</span>\n",
       "<span style=\"color: #000080; text-decoration-color: #000080\">4. **Environment**: Climate change, conservation, sustainable practices, etc.</span>\n",
       "<span style=\"color: #000080; text-decoration-color: #000080\">5. **Economics**: Global markets, economic policies, financial technologies, etc.</span>\n",
       "\n",
       "<span style=\"color: #000080; text-decoration-color: #000080\">Do any of these areas sound interesting to you, or is there another field you're curious about?</span>\n",
       "Type your response: </pre>\n"
      ],
      "text/plain": [
       "\n",
       "\u001b[1;34m🤖 Agent:\u001b[0m \u001b[34mNo worries! Let's try to narrow it down together. Here are a few broad areas you might consider:\u001b[0m\n",
       "\n",
       "\u001b[34m1. **Technology**: Topics related to artificial intelligence, cybersecurity, renewable energy, etc.\u001b[0m\n",
       "\u001b[34m2. **Health**: Research on mental health, nutrition, public health policies, etc.\u001b[0m\n",
       "\u001b[34m3. **Social Sciences**: Topics in sociology, psychology, education, etc.\u001b[0m\n",
       "\u001b[34m4. **Environment**: Climate change, conservation, sustainable practices, etc.\u001b[0m\n",
       "\u001b[34m5. **Economics**: Global markets, economic policies, financial technologies, etc.\u001b[0m\n",
       "\n",
       "\u001b[34mDo any of these areas sound interesting to you, or is there another field you're curious about?\u001b[0m\n",
       "Type your response: "
      ]
     },
     "metadata": {},
     "output_type": "display_data"
    },
    {
     "name": "stdout",
     "output_type": "stream",
     "text": [
      "\n"
     ]
    },
    {
     "data": {
      "text/html": [
       "<pre style=\"white-space:pre;overflow-x:auto;line-height:normal;font-family:Menlo,'DejaVu Sans Mono',consolas,'Courier New',monospace\"></pre>\n"
      ],
      "text/plain": []
     },
     "metadata": {},
     "output_type": "display_data"
    },
    {
     "name": "stdout",
     "output_type": "stream",
     "text": [
      "{\n",
      "  \"title\": \"The Influence of Prime Numbers on the Performance of Artificial Intelligence\",\n",
      "  \"abstract\": \"This research proposal aims to explore the impact of prime numbers on the performance of artificial intelligence (AI) systems. While prime numbers have been extensively studied in mathematics and cryptography, their influence on AI algorithms and performance metrics remains relatively unexplored. This study will investigate the potential applications of prime numbers in optimizing AI processes, enhancing algorithm efficiency, and improving computational outcomes. Through theoretical analysis, simulations, and practical experiments, this research seeks to uncover new insights that could lead to innovative approaches in AI development and deployment.\",\n",
      "  \"key_points\": [\n",
      "    \"Explore the mathematical properties of prime numbers relevant to AI.\",\n",
      "    \"Examine the role of prime numbers in algorithm optimization.\",\n",
      "    \"Analyze the impact of prime numbers on AI performance metrics.\",\n",
      "    \"Conduct simulations to test hypotheses related to prime numbers and AI.\",\n",
      "    \"Propose potential applications of prime numbers in AI technology.\",\n",
      "    \"Contribute to the theoretical and practical understanding of prime numbers in AI.\"\n",
      "  ]\n",
      "}\n"
     ]
    }
   ],
   "source": [
    "from pydantic import BaseModel\n",
    "\n",
    "\n",
    "class ResearchProposal(BaseModel):\n",
    "    title: str\n",
    "    abstract: str\n",
    "    key_points: list[str]\n",
    "\n",
    "\n",
    "@cf.flow\n",
    "def research_proposal_flow():\n",
    "\n",
    "    # Task 1: Get the research topic from the user\n",
    "    user_input = cf.Task(\n",
    "        \"Work with the user to choose a research topic\",\n",
    "        interactive=True,\n",
    "    )\n",
    "    \n",
    "    # Task 2: Generate a structured research proposal\n",
    "    proposal = cf.run(\n",
    "        \"Generate a structured research proposal\",\n",
    "        result_type=ResearchProposal,\n",
    "        depends_on=[user_input]\n",
    "    )\n",
    "    \n",
    "    return proposal\n",
    "\n",
    "def main():\n",
    "    \n",
    "    result = research_proposal_flow()\n",
    "\n",
    "    print(result.model_dump_json(indent=2))\n",
    "\n",
    "main()"
   ]
  }
 ],
 "metadata": {
  "kernelspec": {
   "display_name": ".venv",
   "language": "python",
   "name": "python3"
  },
  "language_info": {
   "codemirror_mode": {
    "name": "ipython",
    "version": 3
   },
   "file_extension": ".py",
   "mimetype": "text/x-python",
   "name": "python",
   "nbconvert_exporter": "python",
   "pygments_lexer": "ipython3",
   "version": "3.12.8"
  }
 },
 "nbformat": 4,
 "nbformat_minor": 2
}
