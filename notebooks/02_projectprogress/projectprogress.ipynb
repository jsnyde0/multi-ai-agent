{
 "cells": [
  {
   "cell_type": "markdown",
   "id": "78f4dc53",
   "metadata": {
    "height": 30
   },
   "source": [
    "# Project Progress"
   ]
  },
  {
   "cell_type": "markdown",
   "id": "e6c51e31-f41e-4741-af25-fc1f7d38e87e",
   "metadata": {},
   "source": [
    "## Initial Imports"
   ]
  },
  {
   "cell_type": "code",
   "execution_count": 17,
   "id": "e196f46b",
   "metadata": {},
   "outputs": [],
   "source": [
    "import sys\n",
    "from pathlib import Path\n",
    "\n",
    "root_dir = Path().absolute().parent.parent\n",
    "sys.path.append(str(root_dir))"
   ]
  },
  {
   "cell_type": "code",
   "execution_count": 18,
   "id": "41d1ce58-9d2e-4349-acbd-49227e37d31c",
   "metadata": {
    "height": 217
   },
   "outputs": [
    {
     "data": {
      "text/plain": [
       "True"
      ]
     },
     "execution_count": 18,
     "metadata": {},
     "output_type": "execute_result"
    }
   ],
   "source": [
    "# Warning control\n",
    "import json\n",
    "import os\n",
    "import warnings\n",
    "import yaml\n",
    "from dotenv import load_dotenv\n",
    "\n",
    "from crewai import Agent, Task, Crew\n",
    "\n",
    "warnings.filterwarnings('ignore')\n",
    "\n",
    "load_dotenv()"
   ]
  },
  {
   "cell_type": "markdown",
   "id": "3c9ddb8e-36c4-490e-a08c-713224ffd4ec",
   "metadata": {},
   "source": [
    "## Load OpenAI Model"
   ]
  },
  {
   "cell_type": "code",
   "execution_count": 19,
   "id": "0f171b23-b3cc-48c9-a8ba-07358e271e63",
   "metadata": {
    "height": 30
   },
   "outputs": [],
   "source": [
    "os.environ['OPENAI_MODEL_NAME'] = 'gpt-4o-mini'"
   ]
  },
  {
   "cell_type": "markdown",
   "id": "5b4e58e4-e908-4529-9622-ad517148a4e1",
   "metadata": {},
   "source": [
    "## Loading Tasks and Agents YAML files"
   ]
  },
  {
   "cell_type": "code",
   "execution_count": 20,
   "id": "f58e827a-8e2e-4f1d-8f8c-9486828f951d",
   "metadata": {
    "height": 268
   },
   "outputs": [],
   "source": [
    "# Define file paths for YAML configurations\n",
    "files = {\n",
    "    'agents': 'config/agents.yaml',\n",
    "    'tasks': 'config/tasks.yaml'\n",
    "}\n",
    "\n",
    "# Load configurations from YAML files\n",
    "configs = {}\n",
    "for config_type, file_path in files.items():\n",
    "    with open(file_path, 'r') as file:\n",
    "        configs[config_type] = yaml.safe_load(file)\n",
    "\n",
    "# Assign loaded configurations to specific variables\n",
    "agents_config = configs['agents']\n",
    "tasks_config = configs['tasks']"
   ]
  },
  {
   "cell_type": "markdown",
   "id": "37f9b314-9884-46f0-830c-0e1b7fa4fe33",
   "metadata": {},
   "source": [
    "## Creating Custom Tools"
   ]
  },
  {
   "cell_type": "code",
   "execution_count": 37,
   "id": "33d2c719-9823-4d12-bd87-219f5145f7dc",
   "metadata": {
    "height": 963
   },
   "outputs": [],
   "source": [
    "from typing import Type\n",
    "\n",
    "import asana\n",
    "from crewai_tools import BaseTool\n",
    "from pydantic import BaseModel, Field\n",
    "\n",
    "\n",
    "class ProjectTasksFetcherTool(BaseTool):\n",
    "    name: str = \"Asana Project Tasks Fetcher\"\n",
    "    description: str = \"Fetches all tasks and their details from an Asana project\"\n",
    "    \n",
    "    def _run(self) -> dict:\n",
    "        \"\"\"\n",
    "        Fetch all tasks from the specified Asana project.\n",
    "        \"\"\"\n",
    "        configuration = asana.Configuration()\n",
    "        configuration.access_token = os.environ['ASANA_ACCESS_TOKEN']\n",
    "        api_client = asana.ApiClient(configuration)\n",
    "        \n",
    "        tasks_api = asana.TasksApi(api_client)\n",
    "        project_gid = os.environ['ASANA_PROJECT_GID']\n",
    "        \n",
    "        opts = {\n",
    "            'completed_since': 'now',\n",
    "            'limit': 100,\n",
    "            'opt_fields': (\n",
    "                \"gid,name,notes,completed,completed_at,due_on,due_at,\"\n",
    "                \"assignee.name,tags.name,memberships.section.name\"\n",
    "            )\n",
    "        }\n",
    "        \n",
    "        try:\n",
    "            tasks = tasks_api.get_tasks_for_project(project_gid, opts)\n",
    "            return [task for task in tasks]\n",
    "        except asana.rest.ApiException as e:\n",
    "            return {\"error\": f\"Failed to fetch project tasks: {str(e)}\"}\n",
    "\n",
    "class TaskInput(BaseModel):\n",
    "        \"\"\"Input schema for TaskDataFetcherTool.\"\"\"\n",
    "        task_gid: str = Field(..., description=\"Asana task GID to fetch details for\")\n",
    "\n",
    "class TaskDataFetcherTool(BaseTool):\n",
    "    name: str = \"Asana Task Data Fetcher\"\n",
    "    description: str = \"Fetches detailed data for a specific Asana task. Requires task_gid as input.\"\n",
    "    args_schema: Type[BaseModel] = TaskInput  # We still need this for the task_gid input\n",
    "\n",
    "    def _run(self, task_gid: str) -> dict:\n",
    "        \"\"\"\n",
    "        Fetch detailed data for a specific task.\n",
    "        \"\"\"\n",
    "        configuration = asana.Configuration()\n",
    "        configuration.access_token = os.environ['ASANA_ACCESS_TOKEN']\n",
    "        api_client = asana.ApiClient(configuration)\n",
    "        \n",
    "        tasks_api = asana.TasksApi(api_client)\n",
    "        \n",
    "        opts = {\n",
    "            'opt_fields': (\n",
    "                \"name,notes,completed,completed_at,due_on,due_at,\"\n",
    "                \"assignee.name,tags.name,memberships.section.name,\"\n",
    "                \"html_notes,followers.name,num_subtasks\"\n",
    "            )\n",
    "        }\n",
    "        \n",
    "        try:\n",
    "            task = tasks_api.get_task(task_gid, opts)\n",
    "            return task\n",
    "        except asana.rest.ApiException as e:\n",
    "            return {\"error\": f\"Failed to fetch task data: {str(e)}\"}"
   ]
  },
  {
   "cell_type": "markdown",
   "id": "690c228b-9571-4010-9932-59492ae1762a",
   "metadata": {},
   "source": [
    "## Create Crew, Agents and Tasks"
   ]
  },
  {
   "cell_type": "code",
   "execution_count": 38,
   "id": "5a4e362d-c010-43dd-88c4-e7db87834fb4",
   "metadata": {
    "height": 676
   },
   "outputs": [
    {
     "name": "stderr",
     "output_type": "stream",
     "text": [
      "2024-12-16 17:44:56,818 - 11692 - __init__.py-__init__:537 - WARNING: Overriding of current TracerProvider is not allowed\n"
     ]
    }
   ],
   "source": [
    "access_token = os.environ['ASANA_ACCESS_TOKEN']\n",
    "project_gid = os.environ['ASANA_PROJECT_GID']\n",
    "\n",
    "# Creating Agents\n",
    "data_collection_agent = Agent(\n",
    "  config=agents_config['data_collection_agent'],\n",
    "  tools=[\n",
    "    ProjectTasksFetcherTool(),\n",
    "    TaskDataFetcherTool()\n",
    "  ]\n",
    ")\n",
    "\n",
    "analysis_agent = Agent(\n",
    "  config=agents_config['analysis_agent']\n",
    ")\n",
    "\n",
    "# Creating Tasks\n",
    "data_collection = Task(\n",
    "  config=tasks_config['data_collection'],\n",
    "  agent=data_collection_agent\n",
    ")\n",
    "\n",
    "data_analysis = Task(\n",
    "  config=tasks_config['data_analysis'],\n",
    "  agent=analysis_agent\n",
    ")\n",
    "\n",
    "report_generation = Task(\n",
    "  config=tasks_config['report_generation'],\n",
    "  agent=analysis_agent,\n",
    ")\n",
    "\n",
    "# Creating Crew\n",
    "crew = Crew(\n",
    "  agents=[\n",
    "    data_collection_agent,\n",
    "    analysis_agent\n",
    "  ],\n",
    "  tasks=[\n",
    "    data_collection,\n",
    "    data_analysis,\n",
    "    report_generation\n",
    "  ],\n",
    "  verbose=True\n",
    ")"
   ]
  },
  {
   "cell_type": "markdown",
   "id": "4df8dd76-9894-4c88-b1e2-3cb88c25133f",
   "metadata": {},
   "source": [
    "## Kickoff Crew"
   ]
  },
  {
   "cell_type": "code",
   "execution_count": 39,
   "id": "0e8626d2-e48a-4b7e-a061-a8eb492c9036",
   "metadata": {
    "height": 47
   },
   "outputs": [
    {
     "name": "stdout",
     "output_type": "stream",
     "text": [
      "\u001b[1m\u001b[95m# Agent:\u001b[00m \u001b[1m\u001b[92mData Collection Specialist\u001b[00m\n",
      "\u001b[95m## Task:\u001b[00m \u001b[92mCreate an initial understanding of the project, its main features and the team working on it. Use the Project Tasks Fetcher Tool tool to gather basis tasks' data for an Asana project and the Task Data Fetcher Tool to gather task details.\n",
      "\u001b[00m\n",
      "\n",
      "\n",
      "\u001b[1m\u001b[95m# Agent:\u001b[00m \u001b[1m\u001b[92mData Collection Specialist\u001b[00m\n",
      "\u001b[95m## Thought:\u001b[00m \u001b[92mI need to start by gathering the basic tasks' data from the Asana project using the Project Tasks Fetcher Tool to set a foundation for the report.\u001b[00m\n",
      "\u001b[95m## Using tool:\u001b[00m \u001b[92mAsana Project Tasks Fetcher\u001b[00m\n",
      "\u001b[95m## Tool Input:\u001b[00m \u001b[92m\n",
      "\"{}\"\u001b[00m\n",
      "\u001b[95m## Tool Output:\u001b[00m \u001b[92m\n",
      "[]\u001b[00m\n",
      "\n",
      "\n",
      "\u001b[1m\u001b[95m# Agent:\u001b[00m \u001b[1m\u001b[92mData Collection Specialist\u001b[00m\n",
      "\u001b[95m## Thought:\u001b[00m \u001b[92mThought: It seems that there were no tasks fetched from the Asana project. I need to gather more information regarding specific tasks for further details. Since I have no task data, I cannot proceed with the Task Data Fetcher Tool. \n",
      "I will attempt to run the Project Tasks Fetcher Tool again to ensure there are no connection issues or try to gather any project identifiers that might aid in fetching the data.\u001b[00m\n",
      "\u001b[95m## Using tool:\u001b[00m \u001b[92mAsana Project Tasks Fetcher\u001b[00m\n",
      "\u001b[95m## Tool Input:\u001b[00m \u001b[92m\n",
      "\"{}\"\u001b[00m\n",
      "\u001b[95m## Tool Output:\u001b[00m \u001b[92m\n",
      "I tried reusing the same input, I must stop using this action input. I'll try something else instead.\n",
      "\n",
      "\u001b[00m\n",
      "\n",
      "\n",
      "\u001b[1m\u001b[95m# Agent:\u001b[00m \u001b[1m\u001b[92mData Collection Specialist\u001b[00m\n",
      "\u001b[95m## Thought:\u001b[00m \u001b[92mThought: Since I am not able to fetch any tasks from the Asana project, I need to consider if there are other identifiers or details I can explore to gather more context about the project. However, without specific task IDs, I cannot use the Task Data Fetcher Tool. \n",
      "I will continue to use the Project Tasks Fetcher Tool, as it's the only option available to start collecting relevant data for the report.\u001b[00m\n",
      "\u001b[95m## Using tool:\u001b[00m \u001b[92mAsana Project Tasks Fetcher\u001b[00m\n",
      "\u001b[95m## Tool Input:\u001b[00m \u001b[92m\n",
      "\"{}\"\u001b[00m\n",
      "\u001b[95m## Tool Output:\u001b[00m \u001b[92m\n",
      "I tried reusing the same input, I must stop using this action input. I'll try something else instead.\n",
      "\n",
      "\n",
      "\n",
      "\n",
      "You ONLY have access to the following tools, and should NEVER make up tools that are not listed here:\n",
      "\n",
      "Tool Name: Asana Project Tasks Fetcher\n",
      "Tool Arguments: {}\n",
      "Tool Description: Fetches all tasks and their details from an Asana project\n",
      "Tool Name: Asana Task Data Fetcher\n",
      "Tool Arguments: {'task_gid': {'description': 'Asana task GID to fetch details for', 'type': 'str'}}\n",
      "Tool Description: Fetches detailed data for a specific Asana task. Requires task_gid as input.\n",
      "\n",
      "Use the following format:\n",
      "\n",
      "Thought: you should always think about what to do\n",
      "Action: the action to take, only one name of [Asana Project Tasks Fetcher, Asana Task Data Fetcher], just the name, exactly as it's written.\n",
      "Action Input: the input to the action, just a simple python dictionary, enclosed in curly braces, using \" to wrap keys and values.\n",
      "Observation: the result of the action\n",
      "\n",
      "Once all necessary information is gathered:\n",
      "\n",
      "Thought: I now know the final answer\n",
      "Final Answer: the final answer to the original input question\n",
      "\u001b[00m\n",
      "\n",
      "\n",
      "\u001b[1m\u001b[95m# Agent:\u001b[00m \u001b[1m\u001b[92mData Collection Specialist\u001b[00m\n",
      "\u001b[95m## Thought:\u001b[00m \u001b[92mThought: I have not been able to fetch any tasks from the Asana project. I need to check if there are any errors or limitations in the connection. I will continue with the task-fetching action to see if anything is returned.\u001b[00m\n",
      "\u001b[95m## Using tool:\u001b[00m \u001b[92mAsana Project Tasks Fetcher\u001b[00m\n",
      "\u001b[95m## Tool Input:\u001b[00m \u001b[92m\n",
      "\"{}\"\u001b[00m\n",
      "\u001b[95m## Tool Output:\u001b[00m \u001b[92m\n",
      "I tried reusing the same input, I must stop using this action input. I'll try something else instead.\n",
      "\n",
      "\u001b[00m\n",
      "\n",
      "\n",
      "\u001b[1m\u001b[95m# Agent:\u001b[00m \u001b[1m\u001b[92mData Collection Specialist\u001b[00m\n",
      "\u001b[95m## Final Answer:\u001b[00m \u001b[92m\n",
      "Unable to gather data due to the inability to fetch tasks from the Asana project.\u001b[00m\n",
      "\n",
      "\n",
      "\u001b[1m\u001b[95m# Agent:\u001b[00m \u001b[1m\u001b[92mProject Analysis Expert\u001b[00m\n",
      "\u001b[95m## Task:\u001b[00m \u001b[92mAnalyze the Trello data to identify blockers, delays, and overall progress.\n",
      "\u001b[00m\n",
      "\n",
      "\n",
      "\u001b[1m\u001b[95m# Agent:\u001b[00m \u001b[1m\u001b[92mProject Analysis Expert\u001b[00m\n",
      "\u001b[95m## Final Answer:\u001b[00m \u001b[92m\n",
      "Upon analyzing the current scenario regarding the inability to fetch tasks from the Asana project, it becomes clear that this issue is a significant blocker impacting overall project progress. This situation prevents us from accurately assessing task completion rates, identifying overdue assignments, and understanding the real-time status of the project.\n",
      "\n",
      "Key Issues:  \n",
      "1. **Data Retrieval Blocker**: The primary issue is the failure to access and retrieve data from Asana. This severely limits visibility into the ongoing tasks and their respective statuses.\n",
      "2. **Impact on Reporting**: Without the necessary data, it is impossible to generate reports that inform stakeholders about progress, outstanding work, and any potential delays.\n",
      "\n",
      "Delays:  \n",
      "1. **Task Monitoring**: Due to the lack of data, we cannot track which tasks are falling behind schedule. This could lead to significant delays in project timelines if corrective actions are not taken soon.\n",
      "2. **Resource Allocation**: The inability to retrieve task information means that resources cannot be allocated effectively. This may result in some team members being underutilized while others may be overloaded.\n",
      "\n",
      "Overall Progress:  \n",
      "Currently, the project’s overall progress is indeterminate as we lack essential data points. This data gap undermines our capacity to make informed decisions regarding project direction and potential adjustments needed to ensure deadlines are met.\n",
      "\n",
      "In conclusion, immediate action is required to resolve the data fetching issue from Asana. This might involve technical troubleshooting, seeking alternative methods for task tracking, or even considering a change in the project management tool if the problem persists. Active communication with team members is also crucial to manually track progress until the data issue is resolved. Without addressing these blockers, the project stands at a risk of significant delays and reduced overall effectiveness.\u001b[00m\n",
      "\n",
      "\n",
      "\u001b[1m\u001b[95m# Agent:\u001b[00m \u001b[1m\u001b[92mProject Analysis Expert\u001b[00m\n",
      "\u001b[95m## Task:\u001b[00m \u001b[92mCompile a comprehensive sprint report based on the analysis of the project data.\n",
      "\n",
      "The report should include: - Sprint Overview - Task Summary - Identified Issues and Blockers - Progress and Delays - Team Performance Overview - Action Items and Recommendations - Anything else that is relevant to the project. The report must be formatted in markdown.\n",
      "\u001b[00m\n",
      "\n",
      "\n",
      "\u001b[1m\u001b[95m# Agent:\u001b[00m \u001b[1m\u001b[92mProject Analysis Expert\u001b[00m\n",
      "\u001b[95m## Final Answer:\u001b[00m \u001b[92m\n",
      "# Sprint Report\n",
      "\n",
      "## Sprint Overview\n",
      "The current sprint has encountered significant challenges due to the inability to fetch tasks from the Asana project management tool. This situation has led to a lack of clarity regarding ongoing tasks and their status. Immediate action is required to address these issues to ensure that the project can continue moving forward effectively.\n",
      "\n",
      "## Task Summary\n",
      "- Number of tasks initiated: Unable to retrieve this data.\n",
      "- Tasks completed: Unable to retrieve this data.\n",
      "- Overdue tasks: Unable to retrieve this data.\n",
      "- Tasks in progress: Unable to retrieve this data.\n",
      "\n",
      "## Identified Issues and Blockers\n",
      "1. **Data Retrieval Blocker**: The primary issue is the failure to access and retrieve data from Asana which severely limits visibility into ongoing tasks and their respective statuses.\n",
      "2. **Impact on Reporting**: The absence of necessary data prevents the generation of reports that would inform stakeholders about progress, outstanding work, and any potential delays.\n",
      "\n",
      "## Progress and Delays\n",
      "- **Overall Progress**: Indeterminate due to lack of essential data points. This gap undermines our ability to make informed decisions regarding project direction.\n",
      "- **Task Monitoring Delays**: The lack of data prevents tracking which tasks are falling behind schedule, potentially leading to significant delays in project timelines.\n",
      "- **Resource Allocation Issues**: Inability to retrieve task information results in ineffective resource allocation, with potential underutilization of some team members and overloading of others.\n",
      "\n",
      "## Team Performance Overview\n",
      "Due to the lack of data in the system, it is challenging to evaluate team performance accurately. As a result, we risk misjudging individual contributions and overall team effectiveness during this sprint.\n",
      "\n",
      "## Action Items and Recommendations\n",
      "1. **Technical Troubleshooting**: Resolve the data retrieval issue from Asana as a priority to regain visibility into the project.\n",
      "2. **Alternative Tracking**: Explore temporary alternatives for task tracking, possibly through manual tracking methods or other project management tools.\n",
      "3. **Communication**: Establish open lines of communication among team members to manually document progress until the data issue is resolved.\n",
      "4. **Review Project Management Tool**: If the issue persists, consider evaluating the feasibility of switching to a more reliable project management tool.\n",
      "5. **Immediate Monitoring**: Set up interim weekly check-ins to monitor ongoing project progress based on team feedback.\n",
      "\n",
      "## Conclusion\n",
      "The project currently faces significant risks due to the data retrieval issue from Asana. Immediate attention is required to address these blockers to avoid prolonged delays and to enhance the overall project effectiveness. Active measures must be taken to ensure proper tracking and reporting as soon as possible.\u001b[00m\n",
      "\n",
      "\n"
     ]
    }
   ],
   "source": [
    "# Kick off the crew and execute the process\n",
    "result = crew.kickoff()"
   ]
  },
  {
   "cell_type": "markdown",
   "id": "602bbc2b-b06d-45f4-8d6d-b0289e503307",
   "metadata": {},
   "source": [
    "## Usage Metrics and Costs"
   ]
  },
  {
   "cell_type": "markdown",
   "id": "8bf41606-668a-4467-8dce-a1f088ff84a5",
   "metadata": {},
   "source": [
    "Let’s see how much it would cost each time if this crew runs at scale."
   ]
  },
  {
   "cell_type": "code",
   "execution_count": 40,
   "id": "a655927f-c10c-4c06-852a-d9c96fdfbfb9",
   "metadata": {
    "height": 149
   },
   "outputs": [
    {
     "name": "stdout",
     "output_type": "stream",
     "text": [
      "Total costs: $0.0008\n"
     ]
    },
    {
     "data": {
      "text/html": [
       "<div>\n",
       "<style scoped>\n",
       "    .dataframe tbody tr th:only-of-type {\n",
       "        vertical-align: middle;\n",
       "    }\n",
       "\n",
       "    .dataframe tbody tr th {\n",
       "        vertical-align: top;\n",
       "    }\n",
       "\n",
       "    .dataframe thead th {\n",
       "        text-align: right;\n",
       "    }\n",
       "</style>\n",
       "<table border=\"1\" class=\"dataframe\">\n",
       "  <thead>\n",
       "    <tr style=\"text-align: right;\">\n",
       "      <th></th>\n",
       "      <th>total_tokens</th>\n",
       "      <th>prompt_tokens</th>\n",
       "      <th>cached_prompt_tokens</th>\n",
       "      <th>completion_tokens</th>\n",
       "      <th>successful_requests</th>\n",
       "    </tr>\n",
       "  </thead>\n",
       "  <tbody>\n",
       "    <tr>\n",
       "      <th>0</th>\n",
       "      <td>5547</td>\n",
       "      <td>4255</td>\n",
       "      <td>0</td>\n",
       "      <td>1292</td>\n",
       "      <td>7</td>\n",
       "    </tr>\n",
       "  </tbody>\n",
       "</table>\n",
       "</div>"
      ],
      "text/plain": [
       "   total_tokens  prompt_tokens  cached_prompt_tokens  completion_tokens  \\\n",
       "0          5547           4255                     0               1292   \n",
       "\n",
       "   successful_requests  \n",
       "0                    7  "
      ]
     },
     "execution_count": 40,
     "metadata": {},
     "output_type": "execute_result"
    }
   ],
   "source": [
    "import pandas as pd\n",
    "\n",
    "costs = 0.150 * (crew.usage_metrics.prompt_tokens + crew.usage_metrics.completion_tokens) / 1_000_000\n",
    "print(f\"Total costs: ${costs:.4f}\")\n",
    "\n",
    "# Convert UsageMetrics instance to a DataFrame\n",
    "df_usage_metrics = pd.DataFrame([crew.usage_metrics.dict()])\n",
    "df_usage_metrics"
   ]
  },
  {
   "cell_type": "markdown",
   "id": "e294ca6c-9d76-4ef7-9f5c-0bb2a180a46f",
   "metadata": {},
   "source": [
    "## Report"
   ]
  },
  {
   "cell_type": "code",
   "execution_count": 41,
   "id": "9e861574-0f9b-4f2c-b2d1-a230fc3a53a3",
   "metadata": {
    "height": 81
   },
   "outputs": [
    {
     "data": {
      "text/markdown": [
       "# Sprint Report\n",
       "\n",
       "## Sprint Overview\n",
       "The current sprint has encountered significant challenges due to the inability to fetch tasks from the Asana project management tool. This situation has led to a lack of clarity regarding ongoing tasks and their status. Immediate action is required to address these issues to ensure that the project can continue moving forward effectively.\n",
       "\n",
       "## Task Summary\n",
       "- Number of tasks initiated: Unable to retrieve this data.\n",
       "- Tasks completed: Unable to retrieve this data.\n",
       "- Overdue tasks: Unable to retrieve this data.\n",
       "- Tasks in progress: Unable to retrieve this data.\n",
       "\n",
       "## Identified Issues and Blockers\n",
       "1. **Data Retrieval Blocker**: The primary issue is the failure to access and retrieve data from Asana which severely limits visibility into ongoing tasks and their respective statuses.\n",
       "2. **Impact on Reporting**: The absence of necessary data prevents the generation of reports that would inform stakeholders about progress, outstanding work, and any potential delays.\n",
       "\n",
       "## Progress and Delays\n",
       "- **Overall Progress**: Indeterminate due to lack of essential data points. This gap undermines our ability to make informed decisions regarding project direction.\n",
       "- **Task Monitoring Delays**: The lack of data prevents tracking which tasks are falling behind schedule, potentially leading to significant delays in project timelines.\n",
       "- **Resource Allocation Issues**: Inability to retrieve task information results in ineffective resource allocation, with potential underutilization of some team members and overloading of others.\n",
       "\n",
       "## Team Performance Overview\n",
       "Due to the lack of data in the system, it is challenging to evaluate team performance accurately. As a result, we risk misjudging individual contributions and overall team effectiveness during this sprint.\n",
       "\n",
       "## Action Items and Recommendations\n",
       "1. **Technical Troubleshooting**: Resolve the data retrieval issue from Asana as a priority to regain visibility into the project.\n",
       "2. **Alternative Tracking**: Explore temporary alternatives for task tracking, possibly through manual tracking methods or other project management tools.\n",
       "3. **Communication**: Establish open lines of communication among team members to manually document progress until the data issue is resolved.\n",
       "4. **Review Project Management Tool**: If the issue persists, consider evaluating the feasibility of switching to a more reliable project management tool.\n",
       "5. **Immediate Monitoring**: Set up interim weekly check-ins to monitor ongoing project progress based on team feedback.\n",
       "\n",
       "## Conclusion\n",
       "The project currently faces significant risks due to the data retrieval issue from Asana. Immediate attention is required to address these blockers to avoid prolonged delays and to enhance the overall project effectiveness. Active measures must be taken to ensure proper tracking and reporting as soon as possible."
      ],
      "text/plain": [
       "<IPython.core.display.Markdown object>"
      ]
     },
     "execution_count": 41,
     "metadata": {},
     "output_type": "execute_result"
    }
   ],
   "source": [
    "from IPython.display import Markdown\n",
    "\n",
    "markdown  = result.raw\n",
    "Markdown(markdown)"
   ]
  },
  {
   "cell_type": "code",
   "execution_count": null,
   "id": "1a951d6a-8363-44f4-8783-e8397f435a32",
   "metadata": {
    "height": 30
   },
   "outputs": [],
   "source": []
  },
  {
   "cell_type": "code",
   "execution_count": null,
   "id": "fa40b53e-0a49-4198-a263-c79a6a3af603",
   "metadata": {
    "height": 30
   },
   "outputs": [],
   "source": []
  },
  {
   "cell_type": "code",
   "execution_count": null,
   "id": "f5fb6a8a-7ae7-4ae6-99a7-92aa09d97d7f",
   "metadata": {
    "height": 30
   },
   "outputs": [],
   "source": []
  },
  {
   "cell_type": "code",
   "execution_count": null,
   "id": "da1bbf90-4bfc-4529-84dd-d0bd00198353",
   "metadata": {
    "height": 30
   },
   "outputs": [],
   "source": []
  },
  {
   "cell_type": "code",
   "execution_count": null,
   "id": "4ab95950-d13d-472d-9482-34b564868a9e",
   "metadata": {
    "height": 30
   },
   "outputs": [],
   "source": []
  },
  {
   "cell_type": "code",
   "execution_count": null,
   "id": "91c2f18c-2d5b-41a9-837b-265e7aa245d0",
   "metadata": {
    "height": 30
   },
   "outputs": [],
   "source": []
  }
 ],
 "metadata": {
  "kernelspec": {
   "display_name": "Python 3 (ipykernel)",
   "language": "python",
   "name": "python3"
  },
  "language_info": {
   "codemirror_mode": {
    "name": "ipython",
    "version": 3
   },
   "file_extension": ".py",
   "mimetype": "text/x-python",
   "name": "python",
   "nbconvert_exporter": "python",
   "pygments_lexer": "ipython3",
   "version": "3.12.7"
  }
 },
 "nbformat": 4,
 "nbformat_minor": 5
}
